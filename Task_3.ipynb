{
  "cells": [
    {
      "cell_type": "code",
      "execution_count": 2,
      "metadata": {
        "colab": {
          "base_uri": "https://localhost:8080/"
        },
        "id": "sO_G-pQC8ElC",
        "outputId": "d68d400e-e621-4657-80b4-3a97aaad3f33"
      },
      "outputs": [
        {
          "name": "stdout",
          "output_type": "stream",
          "text": [
            "Collecting d3rlpy\n",
            "  Downloading d3rlpy-2.8.1-py3-none-any.whl.metadata (11 kB)\n",
            "Requirement already satisfied: torch>=2.5.0 in /usr/local/lib/python3.12/dist-packages (from d3rlpy) (2.8.0+cu126)\n",
            "Requirement already satisfied: tqdm>=4.66.3 in /usr/local/lib/python3.12/dist-packages (from d3rlpy) (4.67.1)\n",
            "Requirement already satisfied: h5py in /usr/local/lib/python3.12/dist-packages (from d3rlpy) (3.15.1)\n",
            "Collecting gym>=0.26.0 (from d3rlpy)\n",
            "  Downloading gym-0.26.2.tar.gz (721 kB)\n",
            "\u001b[?25l     \u001b[90m━━━━━━━━━━━━━━━━━━━━━━━━━━━━━━━━━━━━━━━━\u001b[0m \u001b[32m0.0/721.7 kB\u001b[0m \u001b[31m?\u001b[0m eta \u001b[36m-:--:--\u001b[0m\r\u001b[2K     \u001b[90m━━━━━━━━━━━━━━━━━━━━━━━━━━━━━━━━━━━━━━\u001b[0m \u001b[32m721.7/721.7 kB\u001b[0m \u001b[31m44.0 MB/s\u001b[0m eta \u001b[36m0:00:00\u001b[0m\n",
            "\u001b[?25h  Installing build dependencies ... \u001b[?25l\u001b[?25hdone\n",
            "  Getting requirements to build wheel ... \u001b[?25l\u001b[?25hdone\n",
            "  Preparing metadata (pyproject.toml) ... \u001b[?25l\u001b[?25hdone\n",
            "Requirement already satisfied: click in /usr/local/lib/python3.12/dist-packages (from d3rlpy) (8.3.0)\n",
            "Requirement already satisfied: typing-extensions in /usr/local/lib/python3.12/dist-packages (from d3rlpy) (4.15.0)\n",
            "Collecting structlog (from d3rlpy)\n",
            "  Downloading structlog-25.4.0-py3-none-any.whl.metadata (7.6 kB)\n",
            "Collecting colorama (from d3rlpy)\n",
            "  Downloading colorama-0.4.6-py2.py3-none-any.whl.metadata (17 kB)\n",
            "Collecting dataclasses-json (from d3rlpy)\n",
            "  Downloading dataclasses_json-0.6.7-py3-none-any.whl.metadata (25 kB)\n",
            "Collecting gymnasium==1.0.0 (from d3rlpy)\n",
            "  Downloading gymnasium-1.0.0-py3-none-any.whl.metadata (9.5 kB)\n",
            "Requirement already satisfied: scikit-learn in /usr/local/lib/python3.12/dist-packages (from d3rlpy) (1.6.1)\n",
            "Requirement already satisfied: numpy>=1.21.0 in /usr/local/lib/python3.12/dist-packages (from gymnasium==1.0.0->d3rlpy) (2.0.2)\n",
            "Requirement already satisfied: cloudpickle>=1.2.0 in /usr/local/lib/python3.12/dist-packages (from gymnasium==1.0.0->d3rlpy) (3.1.1)\n",
            "Requirement already satisfied: farama-notifications>=0.0.1 in /usr/local/lib/python3.12/dist-packages (from gymnasium==1.0.0->d3rlpy) (0.0.4)\n",
            "Requirement already satisfied: gym_notices>=0.0.4 in /usr/local/lib/python3.12/dist-packages (from gym>=0.26.0->d3rlpy) (0.1.0)\n",
            "Requirement already satisfied: filelock in /usr/local/lib/python3.12/dist-packages (from torch>=2.5.0->d3rlpy) (3.20.0)\n",
            "Requirement already satisfied: setuptools in /usr/local/lib/python3.12/dist-packages (from torch>=2.5.0->d3rlpy) (75.2.0)\n",
            "Requirement already satisfied: sympy>=1.13.3 in /usr/local/lib/python3.12/dist-packages (from torch>=2.5.0->d3rlpy) (1.13.3)\n",
            "Requirement already satisfied: networkx in /usr/local/lib/python3.12/dist-packages (from torch>=2.5.0->d3rlpy) (3.5)\n",
            "Requirement already satisfied: jinja2 in /usr/local/lib/python3.12/dist-packages (from torch>=2.5.0->d3rlpy) (3.1.6)\n",
            "Requirement already satisfied: fsspec in /usr/local/lib/python3.12/dist-packages (from torch>=2.5.0->d3rlpy) (2025.3.0)\n",
            "Requirement already satisfied: nvidia-cuda-nvrtc-cu12==12.6.77 in /usr/local/lib/python3.12/dist-packages (from torch>=2.5.0->d3rlpy) (12.6.77)\n",
            "Requirement already satisfied: nvidia-cuda-runtime-cu12==12.6.77 in /usr/local/lib/python3.12/dist-packages (from torch>=2.5.0->d3rlpy) (12.6.77)\n",
            "Requirement already satisfied: nvidia-cuda-cupti-cu12==12.6.80 in /usr/local/lib/python3.12/dist-packages (from torch>=2.5.0->d3rlpy) (12.6.80)\n",
            "Requirement already satisfied: nvidia-cudnn-cu12==9.10.2.21 in /usr/local/lib/python3.12/dist-packages (from torch>=2.5.0->d3rlpy) (9.10.2.21)\n",
            "Requirement already satisfied: nvidia-cublas-cu12==12.6.4.1 in /usr/local/lib/python3.12/dist-packages (from torch>=2.5.0->d3rlpy) (12.6.4.1)\n",
            "Requirement already satisfied: nvidia-cufft-cu12==11.3.0.4 in /usr/local/lib/python3.12/dist-packages (from torch>=2.5.0->d3rlpy) (11.3.0.4)\n",
            "Requirement already satisfied: nvidia-curand-cu12==10.3.7.77 in /usr/local/lib/python3.12/dist-packages (from torch>=2.5.0->d3rlpy) (10.3.7.77)\n",
            "Requirement already satisfied: nvidia-cusolver-cu12==11.7.1.2 in /usr/local/lib/python3.12/dist-packages (from torch>=2.5.0->d3rlpy) (11.7.1.2)\n",
            "Requirement already satisfied: nvidia-cusparse-cu12==12.5.4.2 in /usr/local/lib/python3.12/dist-packages (from torch>=2.5.0->d3rlpy) (12.5.4.2)\n",
            "Requirement already satisfied: nvidia-cusparselt-cu12==0.7.1 in /usr/local/lib/python3.12/dist-packages (from torch>=2.5.0->d3rlpy) (0.7.1)\n",
            "Requirement already satisfied: nvidia-nccl-cu12==2.27.3 in /usr/local/lib/python3.12/dist-packages (from torch>=2.5.0->d3rlpy) (2.27.3)\n",
            "Requirement already satisfied: nvidia-nvtx-cu12==12.6.77 in /usr/local/lib/python3.12/dist-packages (from torch>=2.5.0->d3rlpy) (12.6.77)\n",
            "Requirement already satisfied: nvidia-nvjitlink-cu12==12.6.85 in /usr/local/lib/python3.12/dist-packages (from torch>=2.5.0->d3rlpy) (12.6.85)\n",
            "Requirement already satisfied: nvidia-cufile-cu12==1.11.1.6 in /usr/local/lib/python3.12/dist-packages (from torch>=2.5.0->d3rlpy) (1.11.1.6)\n",
            "Requirement already satisfied: triton==3.4.0 in /usr/local/lib/python3.12/dist-packages (from torch>=2.5.0->d3rlpy) (3.4.0)\n",
            "Collecting marshmallow<4.0.0,>=3.18.0 (from dataclasses-json->d3rlpy)\n",
            "  Downloading marshmallow-3.26.1-py3-none-any.whl.metadata (7.3 kB)\n",
            "Collecting typing-inspect<1,>=0.4.0 (from dataclasses-json->d3rlpy)\n",
            "  Downloading typing_inspect-0.9.0-py3-none-any.whl.metadata (1.5 kB)\n",
            "Requirement already satisfied: scipy>=1.6.0 in /usr/local/lib/python3.12/dist-packages (from scikit-learn->d3rlpy) (1.16.2)\n",
            "Requirement already satisfied: joblib>=1.2.0 in /usr/local/lib/python3.12/dist-packages (from scikit-learn->d3rlpy) (1.5.2)\n",
            "Requirement already satisfied: threadpoolctl>=3.1.0 in /usr/local/lib/python3.12/dist-packages (from scikit-learn->d3rlpy) (3.6.0)\n",
            "Requirement already satisfied: packaging>=17.0 in /usr/local/lib/python3.12/dist-packages (from marshmallow<4.0.0,>=3.18.0->dataclasses-json->d3rlpy) (25.0)\n",
            "Requirement already satisfied: mpmath<1.4,>=1.1.0 in /usr/local/lib/python3.12/dist-packages (from sympy>=1.13.3->torch>=2.5.0->d3rlpy) (1.3.0)\n",
            "Collecting mypy-extensions>=0.3.0 (from typing-inspect<1,>=0.4.0->dataclasses-json->d3rlpy)\n",
            "  Downloading mypy_extensions-1.1.0-py3-none-any.whl.metadata (1.1 kB)\n",
            "Requirement already satisfied: MarkupSafe>=2.0 in /usr/local/lib/python3.12/dist-packages (from jinja2->torch>=2.5.0->d3rlpy) (3.0.3)\n",
            "Downloading d3rlpy-2.8.1-py3-none-any.whl (201 kB)\n",
            "\u001b[2K   \u001b[90m━━━━━━━━━━━━━━━━━━━━━━━━━━━━━━━━━━━━━━━━\u001b[0m \u001b[32m201.1/201.1 kB\u001b[0m \u001b[31m18.3 MB/s\u001b[0m eta \u001b[36m0:00:00\u001b[0m\n",
            "\u001b[?25hDownloading gymnasium-1.0.0-py3-none-any.whl (958 kB)\n",
            "\u001b[2K   \u001b[90m━━━━━━━━━━━━━━━━━━━━━━━━━━━━━━━━━━━━━━━━\u001b[0m \u001b[32m958.1/958.1 kB\u001b[0m \u001b[31m61.9 MB/s\u001b[0m eta \u001b[36m0:00:00\u001b[0m\n",
            "\u001b[?25hDownloading colorama-0.4.6-py2.py3-none-any.whl (25 kB)\n",
            "Downloading dataclasses_json-0.6.7-py3-none-any.whl (28 kB)\n",
            "Downloading structlog-25.4.0-py3-none-any.whl (68 kB)\n",
            "\u001b[2K   \u001b[90m━━━━━━━━━━━━━━━━━━━━━━━━━━━━━━━━━━━━━━━━\u001b[0m \u001b[32m68.7/68.7 kB\u001b[0m \u001b[31m6.4 MB/s\u001b[0m eta \u001b[36m0:00:00\u001b[0m\n",
            "\u001b[?25hDownloading marshmallow-3.26.1-py3-none-any.whl (50 kB)\n",
            "\u001b[2K   \u001b[90m━━━━━━━━━━━━━━━━━━━━━━━━━━━━━━━━━━━━━━━━\u001b[0m \u001b[32m50.9/50.9 kB\u001b[0m \u001b[31m4.8 MB/s\u001b[0m eta \u001b[36m0:00:00\u001b[0m\n",
            "\u001b[?25hDownloading typing_inspect-0.9.0-py3-none-any.whl (8.8 kB)\n",
            "Downloading mypy_extensions-1.1.0-py3-none-any.whl (5.0 kB)\n",
            "Building wheels for collected packages: gym\n",
            "  Building wheel for gym (pyproject.toml) ... \u001b[?25l\u001b[?25hdone\n",
            "  Created wheel for gym: filename=gym-0.26.2-py3-none-any.whl size=827727 sha256=dba10db0a4c3505310e345a752c3ade75fc784ce1ec029c9ffdc2e70040d2b3a\n",
            "  Stored in directory: /root/.cache/pip/wheels/95/51/6c/9bb05ebbe7c5cb8171dfaa3611f32622ca4658d53f31c79077\n",
            "Successfully built gym\n",
            "Installing collected packages: structlog, mypy-extensions, marshmallow, gymnasium, gym, colorama, typing-inspect, dataclasses-json, d3rlpy\n",
            "  Attempting uninstall: gymnasium\n",
            "    Found existing installation: gymnasium 1.2.1\n",
            "    Uninstalling gymnasium-1.2.1:\n",
            "      Successfully uninstalled gymnasium-1.2.1\n",
            "  Attempting uninstall: gym\n",
            "    Found existing installation: gym 0.25.2\n",
            "    Uninstalling gym-0.25.2:\n",
            "      Successfully uninstalled gym-0.25.2\n",
            "\u001b[31mERROR: pip's dependency resolver does not currently take into account all the packages that are installed. This behaviour is the source of the following dependency conflicts.\n",
            "dopamine-rl 4.1.2 requires gym<=0.25.2, but you have gym 0.26.2 which is incompatible.\u001b[0m\u001b[31m\n",
            "\u001b[0mSuccessfully installed colorama-0.4.6 d3rlpy-2.8.1 dataclasses-json-0.6.7 gym-0.26.2 gymnasium-1.0.0 marshmallow-3.26.1 mypy-extensions-1.1.0 structlog-25.4.0 typing-inspect-0.9.0\n"
          ]
        }
      ],
      "source": [
        "!pip install d3rlpy"
      ]
    },
    {
      "cell_type": "code",
      "execution_count": null,
      "metadata": {
        "colab": {
          "base_uri": "https://localhost:8080/"
        },
        "id": "ESxKo0krygJl",
        "outputId": "fb290cc7-a7ad-41d0-ade8-a1ad87b71ea7"
      },
      "outputs": [
        {
          "name": "stdout",
          "output_type": "stream",
          "text": [
            "Using device: cuda:0\n",
            "Mounting Google Drive...\n",
            "Mounted at /content/drive\n",
            "Google Drive mounted successfully.\n",
            "Loading processed data for RL...\n",
            "Full training observations shape: (140866, 33)\n",
            "Full training rewards shape: (140866,)\n",
            "Test observations shape: (35217, 33)\n",
            "Test rewards shape: (35217,)\n",
            "Scaling rewards...\n",
            "Rewards scaled to [0, 1] range.\n",
            "  Scaled value for 'Deny' (0 profit): 0.7753\n",
            "Creating PyTorch DataLoaders...\n",
            "DataLoaders created successfully.\n",
            "Initialized Q-PolicyNet model.\n",
            "\n",
            "--- Starting Q-Policy Model Training ---\n"
          ]
        },
        {
          "name": "stderr",
          "output_type": "stream",
          "text": []
        },
        {
          "name": "stdout",
          "output_type": "stream",
          "text": [
            "Epoch 1/30, Train Loss: 0.3227, Val Loss: 0.1339\n",
            "  > New best model found!\n"
          ]
        },
        {
          "name": "stderr",
          "output_type": "stream",
          "text": []
        },
        {
          "name": "stdout",
          "output_type": "stream",
          "text": [
            "Epoch 2/30, Train Loss: 0.1728, Val Loss: 0.1214\n",
            "  > New best model found!\n"
          ]
        },
        {
          "name": "stderr",
          "output_type": "stream",
          "text": []
        },
        {
          "name": "stdout",
          "output_type": "stream",
          "text": [
            "Epoch 3/30, Train Loss: 0.1545, Val Loss: 0.1168\n",
            "  > New best model found!\n"
          ]
        },
        {
          "name": "stderr",
          "output_type": "stream",
          "text": []
        },
        {
          "name": "stdout",
          "output_type": "stream",
          "text": [
            "Epoch 4/30, Train Loss: 0.1469, Val Loss: 0.1162\n",
            "  > New best model found!\n"
          ]
        },
        {
          "name": "stderr",
          "output_type": "stream",
          "text": []
        },
        {
          "name": "stdout",
          "output_type": "stream",
          "text": [
            "Epoch 5/30, Train Loss: 0.1426, Val Loss: 0.1148\n",
            "  > New best model found!\n"
          ]
        },
        {
          "name": "stderr",
          "output_type": "stream",
          "text": []
        },
        {
          "name": "stdout",
          "output_type": "stream",
          "text": [
            "Epoch 6/30, Train Loss: 0.1384, Val Loss: 0.1151\n"
          ]
        },
        {
          "name": "stderr",
          "output_type": "stream",
          "text": []
        },
        {
          "name": "stdout",
          "output_type": "stream",
          "text": [
            "Epoch 7/30, Train Loss: 0.1365, Val Loss: 0.1149\n"
          ]
        },
        {
          "name": "stderr",
          "output_type": "stream",
          "text": []
        },
        {
          "name": "stdout",
          "output_type": "stream",
          "text": [
            "Epoch 8/30, Train Loss: 0.1342, Val Loss: 0.1144\n",
            "  > New best model found!\n"
          ]
        },
        {
          "name": "stderr",
          "output_type": "stream",
          "text": []
        },
        {
          "name": "stdout",
          "output_type": "stream",
          "text": [
            "Epoch 9/30, Train Loss: 0.1322, Val Loss: 0.1146\n"
          ]
        },
        {
          "name": "stderr",
          "output_type": "stream",
          "text": []
        },
        {
          "name": "stdout",
          "output_type": "stream",
          "text": [
            "Epoch 10/30, Train Loss: 0.1306, Val Loss: 0.1147\n"
          ]
        },
        {
          "name": "stderr",
          "output_type": "stream",
          "text": []
        },
        {
          "name": "stdout",
          "output_type": "stream",
          "text": [
            "Epoch 11/30, Train Loss: 0.1301, Val Loss: 0.1144\n"
          ]
        },
        {
          "name": "stderr",
          "output_type": "stream",
          "text": []
        },
        {
          "name": "stdout",
          "output_type": "stream",
          "text": [
            "Epoch 12/30, Train Loss: 0.1290, Val Loss: 0.1145\n"
          ]
        },
        {
          "name": "stderr",
          "output_type": "stream",
          "text": []
        },
        {
          "name": "stdout",
          "output_type": "stream",
          "text": [
            "Epoch 13/30, Train Loss: 0.1280, Val Loss: 0.1149\n"
          ]
        },
        {
          "name": "stderr",
          "output_type": "stream",
          "text": []
        },
        {
          "name": "stdout",
          "output_type": "stream",
          "text": [
            "Epoch 14/30, Train Loss: 0.1269, Val Loss: 0.1143\n",
            "  > New best model found!\n"
          ]
        },
        {
          "name": "stderr",
          "output_type": "stream",
          "text": []
        },
        {
          "name": "stdout",
          "output_type": "stream",
          "text": [
            "Epoch 15/30, Train Loss: 0.1261, Val Loss: 0.1139\n",
            "  > New best model found!\n"
          ]
        },
        {
          "name": "stderr",
          "output_type": "stream",
          "text": []
        },
        {
          "name": "stdout",
          "output_type": "stream",
          "text": [
            "Epoch 16/30, Train Loss: 0.1251, Val Loss: 0.1135\n",
            "  > New best model found!\n"
          ]
        },
        {
          "name": "stderr",
          "output_type": "stream",
          "text": []
        },
        {
          "name": "stdout",
          "output_type": "stream",
          "text": [
            "Epoch 17/30, Train Loss: 0.1251, Val Loss: 0.1135\n",
            "  > New best model found!\n"
          ]
        },
        {
          "name": "stderr",
          "output_type": "stream",
          "text": []
        },
        {
          "name": "stdout",
          "output_type": "stream",
          "text": [
            "Epoch 18/30, Train Loss: 0.1245, Val Loss: 0.1135\n"
          ]
        },
        {
          "name": "stderr",
          "output_type": "stream",
          "text": []
        },
        {
          "name": "stdout",
          "output_type": "stream",
          "text": [
            "Epoch 19/30, Train Loss: 0.1239, Val Loss: 0.1131\n",
            "  > New best model found!\n"
          ]
        },
        {
          "name": "stderr",
          "output_type": "stream",
          "text": []
        },
        {
          "name": "stdout",
          "output_type": "stream",
          "text": [
            "Epoch 20/30, Train Loss: 0.1231, Val Loss: 0.1136\n"
          ]
        },
        {
          "name": "stderr",
          "output_type": "stream",
          "text": []
        },
        {
          "name": "stdout",
          "output_type": "stream",
          "text": [
            "Epoch 21/30, Train Loss: 0.1224, Val Loss: 0.1131\n",
            "  > New best model found!\n"
          ]
        },
        {
          "name": "stderr",
          "output_type": "stream",
          "text": []
        },
        {
          "name": "stdout",
          "output_type": "stream",
          "text": [
            "Epoch 22/30, Train Loss: 0.1222, Val Loss: 0.1135\n"
          ]
        },
        {
          "name": "stderr",
          "output_type": "stream",
          "text": []
        },
        {
          "name": "stdout",
          "output_type": "stream",
          "text": [
            "Epoch 23/30, Train Loss: 0.1216, Val Loss: 0.1133\n"
          ]
        },
        {
          "name": "stderr",
          "output_type": "stream",
          "text": []
        },
        {
          "name": "stdout",
          "output_type": "stream",
          "text": [
            "Epoch 24/30, Train Loss: 0.1210, Val Loss: 0.1130\n",
            "  > New best model found!\n"
          ]
        },
        {
          "name": "stderr",
          "output_type": "stream",
          "text": []
        },
        {
          "name": "stdout",
          "output_type": "stream",
          "text": [
            "Epoch 25/30, Train Loss: 0.1203, Val Loss: 0.1134\n"
          ]
        },
        {
          "name": "stderr",
          "output_type": "stream",
          "text": []
        },
        {
          "name": "stdout",
          "output_type": "stream",
          "text": [
            "Epoch 26/30, Train Loss: 0.1201, Val Loss: 0.1128\n",
            "  > New best model found!\n"
          ]
        },
        {
          "name": "stderr",
          "output_type": "stream",
          "text": []
        },
        {
          "name": "stdout",
          "output_type": "stream",
          "text": [
            "Epoch 27/30, Train Loss: 0.1196, Val Loss: 0.1127\n",
            "  > New best model found!\n"
          ]
        },
        {
          "name": "stderr",
          "output_type": "stream",
          "text": []
        },
        {
          "name": "stdout",
          "output_type": "stream",
          "text": [
            "Epoch 28/30, Train Loss: 0.1193, Val Loss: 0.1129\n"
          ]
        },
        {
          "name": "stderr",
          "output_type": "stream",
          "text": []
        },
        {
          "name": "stdout",
          "output_type": "stream",
          "text": [
            "Epoch 29/30, Train Loss: 0.1188, Val Loss: 0.1129\n"
          ]
        },
        {
          "name": "stderr",
          "output_type": "stream",
          "text": []
        },
        {
          "name": "stdout",
          "output_type": "stream",
          "text": [
            "Epoch 30/30, Train Loss: 0.1188, Val Loss: 0.1128\n",
            "--- RL Training Complete ---\n",
            "Saving trained RL model to /content/drive/MyDrive/shodhAI/rl_q_model.pth...\n",
            "RL Model saved successfully.\n",
            "\n",
            "--- Starting Policy Evaluation (Direct Simulation) ---\n",
            "Policy decisions on test set (35217 loans):\n",
            "  Approve: 2386 loans (6.78%)\n",
            "  Deny:    32831 loans (93.22%)\n",
            "\n",
            "--- Test Set Performance (Task 3) ---\n",
            "\n",
            "-----------------------------------------\n",
            "Total Simulated SCALED Profit:   1,913.67\n",
            "Average Simulated SCALED Profit: 0.0543\n",
            "-----------------------------------------\n",
            "This value represents the simulated average SCALED REWARD [0, 1] per loan\n",
            "if this RL policy were used to make decisions on the test set.\n",
            "\n",
            "--- Task 3 Complete ---\n"
          ]
        }
      ],
      "source": [
        "import numpy as np\n",
        "# D3RLPY imports are no longer needed\n",
        "import torch\n",
        "import torch.nn as nn\n",
        "import torch.optim as optim\n",
        "from torch.utils.data import DataLoader, TensorDataset\n",
        "from sklearn.model_selection import train_test_split # Correct split function\n",
        "from sklearn.preprocessing import MinMaxScaler # <-- IMPORT THE SCALER\n",
        "from google.colab import drive\n",
        "import os\n",
        "import warnings\n",
        "from tqdm import tqdm\n",
        "\n",
        "# --- 0. Setup ---\n",
        "warnings.filterwarnings('ignore')\n",
        "DEVICE = \"cuda:0\" if torch.cuda.is_available() else \"cpu\"\n",
        "print(f\"Using device: {DEVICE}\")\n",
        "\n",
        "# --- 1a. Mount Google Drive ---\n",
        "print(\"Mounting Google Drive...\")\n",
        "try:\n",
        "    drive.mount('/content/drive', force_remount=True)\n",
        "    print(\"Google Drive mounted successfully.\")\n",
        "except Exception as e:\n",
        "    print(f\"Error mounting Google Drive: {e}\")\n",
        "    exit()\n",
        "\n",
        "# --- 1b. Constants & Paths ---\n",
        "DRIVE_MOUNT_POINT = '/content/drive/MyDrive/'\n",
        "PROJECT_DIR = os.path.join(DRIVE_MOUNT_POINT, 'shodhAI')\n",
        "TRAIN_DATA_PATH = os.path.join(PROJECT_DIR, 'processed_data_train.npz')\n",
        "TEST_DATA_PATH = os.path.join(PROJECT_DIR, 'processed_data_test.npz')\n",
        "# We'll save this as a PyTorch model now\n",
        "RL_MODEL_SAVE_PATH = os.path.join(PROJECT_DIR, 'rl_q_model.pth')\n",
        "\n",
        "# Model Hyperparameters\n",
        "INPUT_DIM = -1  # Will be set after loading data\n",
        "HIDDEN_DIM_1 = 256\n",
        "HIDDEN_DIM_2 = 128\n",
        "OUTPUT_DIM = 2  # Q-value for (Deny, Approve)\n",
        "LEARNING_RATE = 0.0005\n",
        "BATCH_SIZE = 2048\n",
        "EPOCHS = 30\n",
        "\n",
        "# --- 2. Load Processed Data ---\n",
        "print(\"Loading processed data for RL...\")\n",
        "try:\n",
        "    with np.load(TRAIN_DATA_PATH) as data:\n",
        "        X_train_full = data['X'].astype(np.float32)\n",
        "        r_train_full = data['r'].astype(np.float32)\n",
        "\n",
        "    with np.load(TEST_DATA_PATH) as data:\n",
        "        X_test = data['X'].astype(np.float32)\n",
        "        r_test = data['r'].astype(np.float32)\n",
        "\n",
        "    print(f\"Full training observations shape: {X_train_full.shape}\")\n",
        "    print(f\"Full training rewards shape: {r_train_full.shape}\")\n",
        "    print(f\"Test observations shape: {X_test.shape}\")\n",
        "    print(f\"Test rewards shape: {r_test.shape}\")\n",
        "\n",
        "    INPUT_DIM = X_train_full.shape[1]\n",
        "\n",
        "except FileNotFoundError:\n",
        "    print(f\"Error: Data files not found in {PROJECT_DIR}\")\n",
        "    exit()\n",
        "except Exception as e:\n",
        "    print(f\"An error occurred loading data: {e}\")\n",
        "    exit()\n",
        "\n",
        "# --- 2b. Scale Rewards ---\n",
        "print(\"Scaling rewards...\")\n",
        "r_train_full_reshaped = r_train_full.reshape(-1, 1)\n",
        "r_test_reshaped = r_test.reshape(-1, 1)\n",
        "\n",
        "reward_scaler = MinMaxScaler()\n",
        "r_train_scaled = reward_scaler.fit_transform(r_train_full_reshaped)\n",
        "r_test_scaled = reward_scaler.transform(r_test_reshaped)\n",
        "\n",
        "\n",
        "scaled_zero_reward = reward_scaler.transform([[0.0]])[0, 0]\n",
        "\n",
        "r_train_full = r_train_scaled.flatten()\n",
        "r_test = r_test_scaled.flatten()\n",
        "\n",
        "print(\"Rewards scaled to [0, 1] range.\")\n",
        "print(f\"  Scaled value for 'Deny' (0 profit): {scaled_zero_reward:.4f}\")\n",
        "\n",
        "# --- 3. Create PyTorch DataLoaders ---\n",
        "print(\"Creating PyTorch DataLoaders...\")\n",
        "# We split the data for training our Q-function\n",
        "X_train, X_val, r_train, r_val = train_test_split(\n",
        "    X_train_full, r_train_full, test_size=0.1, random_state=42\n",
        ")\n",
        "\n",
        "# Create Tensors\n",
        "X_train_tensor = torch.tensor(X_train, dtype=torch.float32)\n",
        "r_train_tensor = torch.tensor(r_train, dtype=torch.float32).view(-1, 1)\n",
        "X_val_tensor = torch.tensor(X_val, dtype=torch.float32)\n",
        "r_val_tensor = torch.tensor(r_val, dtype=torch.float32).view(-1, 1)\n",
        "X_test_tensor = torch.tensor(X_test, dtype=torch.float32)\n",
        "\n",
        "\n",
        "# Create Datasets and DataLoaders\n",
        "train_dataset = TensorDataset(X_train_tensor, r_train_tensor)\n",
        "val_dataset = TensorDataset(X_val_tensor, r_val_tensor)\n",
        "train_loader = DataLoader(dataset=train_dataset, batch_size=BATCH_SIZE, shuffle=True)\n",
        "val_loader = DataLoader(dataset=val_dataset, batch_size=BATCH_SIZE, shuffle=False)\n",
        "\n",
        "print(\"DataLoaders created successfully.\")\n",
        "\n",
        "\n",
        "# --- 4. Define the Q-Policy Model ---\n",
        "class QPolicyNet(nn.Module):\n",
        "    def __init__(self, input_dim, hidden_dim_1, hidden_dim_2, output_dim):\n",
        "        super(QPolicyNet, self).__init__()\n",
        "        self.network = nn.Sequential(\n",
        "            nn.Linear(input_dim, hidden_dim_1),\n",
        "            nn.ReLU(),\n",
        "            nn.Dropout(0.4),\n",
        "            nn.Linear(hidden_dim_1, hidden_dim_2),\n",
        "            nn.ReLU(),\n",
        "            nn.Dropout(0.4),\n",
        "            nn.Linear(hidden_dim_2, output_dim)\n",
        "            \n",
        "        )\n",
        "    def forward(self, x):\n",
        "        return self.network(x)\n",
        "\n",
        "model = QPolicyNet(INPUT_DIM, HIDDEN_DIM_1, HIDDEN_DIM_2, OUTPUT_DIM).to(DEVICE)\n",
        "print(\"Initialized Q-PolicyNet model.\")\n",
        "\n",
        "# --- 5. Define Loss Function and Optimizer ---\n",
        "\n",
        "criterion = nn.MSELoss()\n",
        "optimizer = optim.Adam(model.parameters(), lr=LEARNING_RATE)\n",
        "\n",
        "\n",
        "deny_target = torch.tensor([scaled_zero_reward], dtype=torch.float32).to(DEVICE)\n",
        "\n",
        "# --- 6. Train the RL Agent (Q-Function) ---\n",
        "print(\"\\n--- Starting Q-Policy Model Training ---\")\n",
        "best_val_loss = float('inf')\n",
        "best_model_state = None\n",
        "\n",
        "for epoch in range(EPOCHS):\n",
        "    model.train()\n",
        "    total_train_loss = 0\n",
        "\n",
        "    for inputs, r_approve_targets in tqdm(train_loader, desc=f\"Epoch {epoch+1}/{EPOCHS}\", leave=False):\n",
        "        inputs = inputs.to(DEVICE)\n",
        "        r_approve_targets = r_approve_targets.to(DEVICE)\n",
        "\n",
        "        # Zero gradients\n",
        "        optimizer.zero_grad()\n",
        "\n",
        "        # Forward pass: get Q-values for both actions\n",
        "        q_values = model(inputs)\n",
        "        q_deny = q_values[:, 0]\n",
        "        q_approve = q_values[:, 1]\n",
        "\n",
        "        # Calculate loss\n",
        "        \n",
        "        loss_approve = criterion(q_approve, r_approve_targets.squeeze())\n",
        "        loss_deny = criterion(q_deny, deny_target.expand_as(q_deny))\n",
        "\n",
        "        # Total loss is the sum of both\n",
        "        loss = loss_approve + loss_deny\n",
        "\n",
        "        # Backward pass\n",
        "        loss.backward()\n",
        "        optimizer.step()\n",
        "        total_train_loss += loss.item()\n",
        "\n",
        "    avg_train_loss = total_train_loss / len(train_loader)\n",
        "\n",
        "    # Validation loop\n",
        "    model.eval()\n",
        "    total_val_loss = 0\n",
        "    with torch.no_grad():\n",
        "        for inputs, r_approve_targets in val_loader:\n",
        "            inputs = inputs.to(DEVICE)\n",
        "            r_approve_targets = r_approve_targets.to(DEVICE)\n",
        "\n",
        "            q_values = model(inputs)\n",
        "            q_deny = q_values[:, 0]\n",
        "            q_approve = q_values[:, 1]\n",
        "\n",
        "            loss_approve = criterion(q_approve, r_approve_targets.squeeze())\n",
        "            loss_deny = criterion(q_deny, deny_target.expand_as(q_deny))\n",
        "            loss = loss_approve + loss_deny\n",
        "            total_val_loss += loss.item()\n",
        "\n",
        "    avg_val_loss = total_val_loss / len(val_loader)\n",
        "    print(f\"Epoch {epoch+1}/{EPOCHS}, Train Loss: {avg_train_loss:.4f}, Val Loss: {avg_val_loss:.4f}\")\n",
        "\n",
        "    # Save the best model\n",
        "    if avg_val_loss < best_val_loss:\n",
        "        best_val_loss = avg_val_loss\n",
        "        best_model_state = model.state_dict()\n",
        "        print(f\"  > New best model found!\")\n",
        "\n",
        "print(\"--- RL Training Complete ---\")\n",
        "\n",
        "# --- 7. Save the Trained Model ---\n",
        "print(f\"Saving trained RL model to {RL_MODEL_SAVE_PATH}...\")\n",
        "torch.save(best_model_state, RL_MODEL_SAVE_PATH)\n",
        "print(\"RL Model saved successfully.\")\n",
        "\n",
        "# --- 8. Evaluate the Policy (Direct Simulation Method) ---\n",
        "print(\"\\n--- Starting Policy Evaluation (Direct Simulation) ---\")\n",
        "\n",
        "# Load the best model weights\n",
        "model.load_state_dict(best_model_state)\n",
        "model.eval()\n",
        "\n",
        "with torch.no_grad():\n",
        "    # Get Q-values for the test set\n",
        "    q_values_tensor = model(X_test_tensor.to(DEVICE))\n",
        "    q_values = q_values_tensor.cpu().numpy()\n",
        "\n",
        "# q_values shape is (n_samples, 2). Get the chosen action.\n",
        "policy_actions = np.argmax(q_values, axis=1) # 0 = Deny, 1 = Approve\n",
        "\n",
        "# Analyze the policy's decisions\n",
        "n_approve = np.sum(policy_actions == 1)\n",
        "n_deny = np.sum(policy_actions == 0)\n",
        "approve_pct = n_approve / len(policy_actions) * 100\n",
        "\n",
        "print(f\"Policy decisions on test set ({len(policy_actions)} loans):\")\n",
        "print(f\"  Approve: {n_approve} loans ({approve_pct:.2f}%)\")\n",
        "print(f\"  Deny:    {n_deny} loans ({(100-approve_pct):.2f}%)\")\n",
        "\n",
        "# Calculate the simulated profit\n",
        "\n",
        "simulated_profits = r_test * policy_actions\n",
        "\n",
        "# Calculate total and average profit\n",
        "total_simulated_profit = np.sum(simulated_profits)\n",
        "avg_simulated_profit = np.mean(simulated_profits)\n",
        "\n",
        "# --- 9. Report the Results ---\n",
        "print(\"\\n--- Test Set Performance (Task 3) ---\")\n",
        "print(\"\\n-----------------------------------------\")\n",
        "print(f\"Total Simulated SCALED Profit:   {total_simulated_profit:,.2f}\")\n",
        "print(f\"Average Simulated SCALED Profit: {avg_simulated_profit:.4f}\")\n",
        "print(\"-----------------------------------------\")\n",
        "print(\"This value represents the simulated average SCALED REWARD [0, 1] per loan\")\n",
        "print(\"if this RL policy were used to make decisions on the test set.\")\n",
        "\n",
        "print(\"\\n--- Task 3 Complete ---\")\n",
        "\n"
      ]
    },
    {
      "cell_type": "code",
      "execution_count": null,
      "metadata": {
        "id": "2RqTZ9sv5tFb"
      },
      "outputs": [],
      "source": []
    }
  ],
  "metadata": {
    "accelerator": "GPU",
    "colab": {
      "gpuType": "L4",
      "provenance": []
    },
    "kernelspec": {
      "display_name": "Python 3",
      "name": "python3"
    },
    "language_info": {
      "name": "python"
    }
  },
  "nbformat": 4,
  "nbformat_minor": 0
}
